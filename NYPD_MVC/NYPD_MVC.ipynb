{
 "cells": [
  {
   "cell_type": "code",
   "execution_count": 3,
   "metadata": {},
   "outputs": [],
   "source": [
    "import pandas as pd\n",
    "import numpy as np\n",
    "import matplotlib.pyplot as plt\n",
    "import seaborn as sns\n",
    "import pandas_profiling\n",
    "import swifter\n",
    "import warnings\n",
    "\n",
    "warnings.filterwarnings('ignore')\n",
    "%matplotlib inline\n",
    "sns.set_style('darkgrid')"
   ]
  },
  {
   "cell_type": "code",
   "execution_count": 4,
   "metadata": {},
   "outputs": [],
   "source": [
    "df = pd.read_csv('NYPD_Motor_Vehicle_Collisions_-_Crashes.csv')"
   ]
  },
  {
   "cell_type": "code",
   "execution_count": 5,
   "metadata": {},
   "outputs": [
    {
     "name": "stdout",
     "output_type": "stream",
     "text": [
      "<class 'pandas.core.frame.DataFrame'>\n",
      "RangeIndex: 1569425 entries, 0 to 1569424\n",
      "Data columns (total 29 columns):\n",
      "DATE                             1569425 non-null object\n",
      "TIME                             1569425 non-null object\n",
      "BOROUGH                          1095377 non-null object\n",
      "ZIP CODE                         1095190 non-null object\n",
      "LATITUDE                         1376164 non-null float64\n",
      "LONGITUDE                        1376164 non-null float64\n",
      "LOCATION                         1376164 non-null object\n",
      "ON STREET NAME                   1263339 non-null object\n",
      "CROSS STREET NAME                1050365 non-null object\n",
      "OFF STREET NAME                  213923 non-null object\n",
      "NUMBER OF PERSONS INJURED        1569408 non-null float64\n",
      "NUMBER OF PERSONS KILLED         1569394 non-null float64\n",
      "NUMBER OF PEDESTRIANS INJURED    1569425 non-null int64\n",
      "NUMBER OF PEDESTRIANS KILLED     1569425 non-null int64\n",
      "NUMBER OF CYCLIST INJURED        1569425 non-null int64\n",
      "NUMBER OF CYCLIST KILLED         1569425 non-null int64\n",
      "NUMBER OF MOTORIST INJURED       1569425 non-null int64\n",
      "NUMBER OF MOTORIST KILLED        1569425 non-null int64\n",
      "CONTRIBUTING FACTOR VEHICLE 1    1565321 non-null object\n",
      "CONTRIBUTING FACTOR VEHICLE 2    1359317 non-null object\n",
      "CONTRIBUTING FACTOR VEHICLE 3    101447 non-null object\n",
      "CONTRIBUTING FACTOR VEHICLE 4    21078 non-null object\n",
      "CONTRIBUTING FACTOR VEHICLE 5    5390 non-null object\n",
      "COLLISION_ID                     1569425 non-null int64\n",
      "VEHICLE TYPE CODE 1              1564292 non-null object\n",
      "VEHICLE TYPE CODE 2              1312346 non-null object\n",
      "VEHICLE TYPE CODE 3              130661 non-null object\n",
      "VEHICLE TYPE CODE 4              48889 non-null object\n",
      "VEHICLE TYPE CODE 5              10496 non-null object\n",
      "dtypes: float64(4), int64(7), object(18)\n",
      "memory usage: 347.2+ MB\n"
     ]
    }
   ],
   "source": [
    "df.info()"
   ]
  },
  {
   "cell_type": "code",
   "execution_count": 6,
   "metadata": {},
   "outputs": [],
   "source": [
    "col = list(df.columns)"
   ]
  },
  {
   "cell_type": "code",
   "execution_count": 8,
   "metadata": {
    "scrolled": false
   },
   "outputs": [],
   "source": [
    "df.columns = df.columns.str.replace(' ', '_')"
   ]
  },
  {
   "cell_type": "code",
   "execution_count": 9,
   "metadata": {},
   "outputs": [
    {
     "name": "stdout",
     "output_type": "stream",
     "text": [
      "<class 'pandas.core.frame.DataFrame'>\n",
      "RangeIndex: 1569425 entries, 0 to 1569424\n",
      "Data columns (total 29 columns):\n",
      "DATE                             1569425 non-null object\n",
      "TIME                             1569425 non-null object\n",
      "BOROUGH                          1095377 non-null object\n",
      "ZIP_CODE                         1095190 non-null object\n",
      "LATITUDE                         1376164 non-null float64\n",
      "LONGITUDE                        1376164 non-null float64\n",
      "LOCATION                         1376164 non-null object\n",
      "ON_STREET_NAME                   1263339 non-null object\n",
      "CROSS_STREET_NAME                1050365 non-null object\n",
      "OFF_STREET_NAME                  213923 non-null object\n",
      "NUMBER_OF_PERSONS_INJURED        1569408 non-null float64\n",
      "NUMBER_OF_PERSONS_KILLED         1569394 non-null float64\n",
      "NUMBER_OF_PEDESTRIANS_INJURED    1569425 non-null int64\n",
      "NUMBER_OF_PEDESTRIANS_KILLED     1569425 non-null int64\n",
      "NUMBER_OF_CYCLIST_INJURED        1569425 non-null int64\n",
      "NUMBER_OF_CYCLIST_KILLED         1569425 non-null int64\n",
      "NUMBER_OF_MOTORIST_INJURED       1569425 non-null int64\n",
      "NUMBER_OF_MOTORIST_KILLED        1569425 non-null int64\n",
      "CONTRIBUTING_FACTOR_VEHICLE_1    1565321 non-null object\n",
      "CONTRIBUTING_FACTOR_VEHICLE_2    1359317 non-null object\n",
      "CONTRIBUTING_FACTOR_VEHICLE_3    101447 non-null object\n",
      "CONTRIBUTING_FACTOR_VEHICLE_4    21078 non-null object\n",
      "CONTRIBUTING_FACTOR_VEHICLE_5    5390 non-null object\n",
      "COLLISION_ID                     1569425 non-null int64\n",
      "VEHICLE_TYPE_CODE_1              1564292 non-null object\n",
      "VEHICLE_TYPE_CODE_2              1312346 non-null object\n",
      "VEHICLE_TYPE_CODE_3              130661 non-null object\n",
      "VEHICLE_TYPE_CODE_4              48889 non-null object\n",
      "VEHICLE_TYPE_CODE_5              10496 non-null object\n",
      "dtypes: float64(4), int64(7), object(18)\n",
      "memory usage: 347.2+ MB\n"
     ]
    }
   ],
   "source": [
    "df.info()"
   ]
  },
  {
   "cell_type": "code",
   "execution_count": null,
   "metadata": {},
   "outputs": [],
   "source": [
    "df.Cros"
   ]
  }
 ],
 "metadata": {
  "kernelspec": {
   "display_name": "Python 3",
   "language": "python",
   "name": "python3"
  },
  "language_info": {
   "codemirror_mode": {
    "name": "ipython",
    "version": 3
   },
   "file_extension": ".py",
   "mimetype": "text/x-python",
   "name": "python",
   "nbconvert_exporter": "python",
   "pygments_lexer": "ipython3",
   "version": "3.7.3"
  }
 },
 "nbformat": 4,
 "nbformat_minor": 2
}
